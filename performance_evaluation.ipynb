{
 "cells": [
  {
   "cell_type": "code",
   "execution_count": 1,
   "id": "2d504281-bc62-4996-9861-99424789a642",
   "metadata": {
    "tags": []
   },
   "outputs": [],
   "source": [
    "import json\n",
    "import pandas as pd\n",
    "import seaborn as sns\n",
    "import os\n",
    "from glob import glob"
   ]
  },
  {
   "cell_type": "code",
   "execution_count": 2,
   "id": "5d41811c-45fa-45de-85ad-29af4646b09a",
   "metadata": {
    "tags": []
   },
   "outputs": [],
   "source": [
    "directory_path_wo = './lighthouse_performance/wo_plugin/'\n",
    "directory_path_w = './lighthouse_performance/w_plugin/'"
   ]
  },
  {
   "cell_type": "code",
   "execution_count": 3,
   "id": "0e1d4862-448b-4f5c-a3b8-79f7d8fd4f09",
   "metadata": {
    "tags": []
   },
   "outputs": [],
   "source": [
    "json_files_wo = glob(os.path.join(directory_path_wo, '*.json'))\n",
    "json_files_w = glob(os.path.join(directory_path_w, '*.json'))"
   ]
  },
  {
   "cell_type": "code",
   "execution_count": 4,
   "id": "a1d70135-b169-4519-8349-9f5a3df0e34c",
   "metadata": {
    "tags": []
   },
   "outputs": [],
   "source": [
    "all_data_wo = []\n",
    "filenames_wo = []\n",
    "\n",
    "all_data_w = []\n",
    "filenames_w = []"
   ]
  },
  {
   "cell_type": "code",
   "execution_count": 5,
   "id": "c97d4747-7bc5-4141-ba91-5340ba82e2fc",
   "metadata": {
    "tags": []
   },
   "outputs": [],
   "source": [
    "for file_path in json_files_wo:\n",
    "    filename = os.path.basename(file_path)\n",
    "    # Load the JSON file\n",
    "    with open(file_path, 'r') as file:\n",
    "        data = json.load(file)\n",
    "\n",
    "    # Extract the items from the specified path\n",
    "    if 'audits' in data and 'metrics' in data['audits'] and 'details' in data['audits']['metrics'] and 'items' in data['audits']['metrics']['details']:\n",
    "        first_item = data['audits']['metrics']['details']['items'][0]\n",
    "        # Add the item to our list\n",
    "        all_data_wo.append(first_item)\n",
    "\n",
    "        # Add the filename to our list\n",
    "        filenames_wo.append(filename)"
   ]
  },
  {
   "cell_type": "code",
   "execution_count": 6,
   "id": "15a645e4-3417-4219-ada1-eea1941eae48",
   "metadata": {
    "tags": []
   },
   "outputs": [],
   "source": [
    "for file_path in json_files_w:\n",
    "    filename = os.path.basename(file_path)\n",
    "    # Load the JSON file\n",
    "    with open(file_path, 'r') as file:\n",
    "        data = json.load(file)\n",
    "\n",
    "    # Extract the items from the specified path\n",
    "    if 'audits' in data and 'metrics' in data['audits'] and 'details' in data['audits']['metrics'] and 'items' in data['audits']['metrics']['details']:\n",
    "        first_item = data['audits']['metrics']['details']['items'][0]\n",
    "        # Add the item to our list\n",
    "        all_data_w.append(first_item)\n",
    "\n",
    "        # Add the filename to our list\n",
    "        filenames_w.append(filename)"
   ]
  },
  {
   "cell_type": "code",
   "execution_count": 7,
   "id": "cb70b7ea-206e-4e3a-92fc-5d579b369081",
   "metadata": {
    "tags": []
   },
   "outputs": [],
   "source": [
    "df_wo = pd.DataFrame(all_data_wo, index=filenames_wo)\n",
    "df_w = pd.DataFrame(all_data_w, index=filenames_w)"
   ]
  },
  {
   "cell_type": "code",
   "execution_count": 8,
   "id": "cafe7b26-fbb9-44de-ac43-1760e3364a7f",
   "metadata": {
    "tags": []
   },
   "outputs": [
    {
     "data": {
      "text/plain": [
       "firstContentfulPaint      410.5\n",
       "largestContentfulPaint    501.0\n",
       "speedIndex                423.0\n",
       "dtype: float64"
      ]
     },
     "execution_count": 8,
     "metadata": {},
     "output_type": "execute_result"
    }
   ],
   "source": [
    "df_wo[['firstContentfulPaint', 'largestContentfulPaint', 'speedIndex']].median()"
   ]
  },
  {
   "cell_type": "code",
   "execution_count": 9,
   "id": "d4bb5745-904b-440d-8a9e-8cbf39d47499",
   "metadata": {
    "tags": []
   },
   "outputs": [
    {
     "data": {
      "text/plain": [
       "firstContentfulPaint      487.0\n",
       "largestContentfulPaint    748.0\n",
       "speedIndex                521.5\n",
       "dtype: float64"
      ]
     },
     "execution_count": 9,
     "metadata": {},
     "output_type": "execute_result"
    }
   ],
   "source": [
    "df_w[['firstContentfulPaint', 'largestContentfulPaint', 'speedIndex']].median()"
   ]
  },
  {
   "cell_type": "code",
   "execution_count": 10,
   "id": "fe9335c1",
   "metadata": {
    "vscode": {
     "languageId": "javascript"
    }
   },
   "outputs": [
    {
     "data": {
      "text/html": [
       "<div>\n",
       "<style scoped>\n",
       "    .dataframe tbody tr th:only-of-type {\n",
       "        vertical-align: middle;\n",
       "    }\n",
       "\n",
       "    .dataframe tbody tr th {\n",
       "        vertical-align: top;\n",
       "    }\n",
       "\n",
       "    .dataframe thead th {\n",
       "        text-align: right;\n",
       "    }\n",
       "</style>\n",
       "<table border=\"1\" class=\"dataframe\">\n",
       "  <thead>\n",
       "    <tr style=\"text-align: right;\">\n",
       "      <th></th>\n",
       "      <th>firstContentfulPaint</th>\n",
       "      <th>largestContentfulPaint</th>\n",
       "      <th>speedIndex</th>\n",
       "      <th>plugin</th>\n",
       "    </tr>\n",
       "  </thead>\n",
       "  <tbody>\n",
       "    <tr>\n",
       "      <th>20250327_133233_wo_plugin.json</th>\n",
       "      <td>465</td>\n",
       "      <td>505</td>\n",
       "      <td>489</td>\n",
       "      <td>inactive</td>\n",
       "    </tr>\n",
       "    <tr>\n",
       "      <th>20250327_133114_wo_plugin.json</th>\n",
       "      <td>411</td>\n",
       "      <td>502</td>\n",
       "      <td>424</td>\n",
       "      <td>inactive</td>\n",
       "    </tr>\n",
       "    <tr>\n",
       "      <th>20250327_133512_wo_plugin.json</th>\n",
       "      <td>410</td>\n",
       "      <td>501</td>\n",
       "      <td>425</td>\n",
       "      <td>inactive</td>\n",
       "    </tr>\n",
       "    <tr>\n",
       "      <th>20250327_133336_wo_plugin.json</th>\n",
       "      <td>411</td>\n",
       "      <td>502</td>\n",
       "      <td>419</td>\n",
       "      <td>inactive</td>\n",
       "    </tr>\n",
       "    <tr>\n",
       "      <th>20250327_133352_wo_plugin.json</th>\n",
       "      <td>411</td>\n",
       "      <td>502</td>\n",
       "      <td>423</td>\n",
       "      <td>inactive</td>\n",
       "    </tr>\n",
       "    <tr>\n",
       "      <th>20250327_133249_wo_plugin.json</th>\n",
       "      <td>411</td>\n",
       "      <td>501</td>\n",
       "      <td>412</td>\n",
       "      <td>inactive</td>\n",
       "    </tr>\n",
       "    <tr>\n",
       "      <th>20250327_133408_wo_plugin.json</th>\n",
       "      <td>408</td>\n",
       "      <td>498</td>\n",
       "      <td>424</td>\n",
       "      <td>inactive</td>\n",
       "    </tr>\n",
       "    <tr>\n",
       "      <th>20250327_133320_wo_plugin.json</th>\n",
       "      <td>412</td>\n",
       "      <td>502</td>\n",
       "      <td>434</td>\n",
       "      <td>inactive</td>\n",
       "    </tr>\n",
       "    <tr>\n",
       "      <th>20250327_133058_wo_plugin.json</th>\n",
       "      <td>410</td>\n",
       "      <td>500</td>\n",
       "      <td>421</td>\n",
       "      <td>inactive</td>\n",
       "    </tr>\n",
       "    <tr>\n",
       "      <th>20250327_133217_wo_plugin.json</th>\n",
       "      <td>414</td>\n",
       "      <td>506</td>\n",
       "      <td>419</td>\n",
       "      <td>inactive</td>\n",
       "    </tr>\n",
       "    <tr>\n",
       "      <th>20250327_133456_wo_plugin.json</th>\n",
       "      <td>410</td>\n",
       "      <td>500</td>\n",
       "      <td>433</td>\n",
       "      <td>inactive</td>\n",
       "    </tr>\n",
       "    <tr>\n",
       "      <th>20250327_133042_wo_plugin.json</th>\n",
       "      <td>411</td>\n",
       "      <td>502</td>\n",
       "      <td>420</td>\n",
       "      <td>inactive</td>\n",
       "    </tr>\n",
       "    <tr>\n",
       "      <th>20250327_133026_wo_plugin.json</th>\n",
       "      <td>577</td>\n",
       "      <td>629</td>\n",
       "      <td>577</td>\n",
       "      <td>inactive</td>\n",
       "    </tr>\n",
       "    <tr>\n",
       "      <th>20250327_133145_wo_plugin.json</th>\n",
       "      <td>410</td>\n",
       "      <td>500</td>\n",
       "      <td>426</td>\n",
       "      <td>inactive</td>\n",
       "    </tr>\n",
       "    <tr>\n",
       "      <th>20250327_133305_wo_plugin.json</th>\n",
       "      <td>409</td>\n",
       "      <td>499</td>\n",
       "      <td>422</td>\n",
       "      <td>inactive</td>\n",
       "    </tr>\n",
       "    <tr>\n",
       "      <th>20250327_133129_wo_plugin.json</th>\n",
       "      <td>411</td>\n",
       "      <td>501</td>\n",
       "      <td>431</td>\n",
       "      <td>inactive</td>\n",
       "    </tr>\n",
       "    <tr>\n",
       "      <th>20250327_133528_wo_plugin.json</th>\n",
       "      <td>408</td>\n",
       "      <td>497</td>\n",
       "      <td>423</td>\n",
       "      <td>inactive</td>\n",
       "    </tr>\n",
       "    <tr>\n",
       "      <th>20250327_133424_wo_plugin.json</th>\n",
       "      <td>409</td>\n",
       "      <td>499</td>\n",
       "      <td>423</td>\n",
       "      <td>inactive</td>\n",
       "    </tr>\n",
       "    <tr>\n",
       "      <th>20250327_133440_wo_plugin.json</th>\n",
       "      <td>409</td>\n",
       "      <td>499</td>\n",
       "      <td>418</td>\n",
       "      <td>inactive</td>\n",
       "    </tr>\n",
       "    <tr>\n",
       "      <th>20250327_133201_wo_plugin.json</th>\n",
       "      <td>410</td>\n",
       "      <td>500</td>\n",
       "      <td>410</td>\n",
       "      <td>inactive</td>\n",
       "    </tr>\n",
       "    <tr>\n",
       "      <th>20250327_132556_w_plugin.json</th>\n",
       "      <td>487</td>\n",
       "      <td>749</td>\n",
       "      <td>517</td>\n",
       "      <td>active</td>\n",
       "    </tr>\n",
       "    <tr>\n",
       "      <th>20250327_132820_w_plugin.json</th>\n",
       "      <td>488</td>\n",
       "      <td>750</td>\n",
       "      <td>530</td>\n",
       "      <td>active</td>\n",
       "    </tr>\n",
       "    <tr>\n",
       "      <th>20250327_132508_w_plugin.json</th>\n",
       "      <td>487</td>\n",
       "      <td>748</td>\n",
       "      <td>512</td>\n",
       "      <td>active</td>\n",
       "    </tr>\n",
       "    <tr>\n",
       "      <th>20250327_132452_w_plugin.json</th>\n",
       "      <td>487</td>\n",
       "      <td>750</td>\n",
       "      <td>504</td>\n",
       "      <td>active</td>\n",
       "    </tr>\n",
       "    <tr>\n",
       "      <th>20250327_132804_w_plugin.json</th>\n",
       "      <td>487</td>\n",
       "      <td>749</td>\n",
       "      <td>517</td>\n",
       "      <td>active</td>\n",
       "    </tr>\n",
       "    <tr>\n",
       "      <th>20250327_132700_w_plugin.json</th>\n",
       "      <td>485</td>\n",
       "      <td>745</td>\n",
       "      <td>517</td>\n",
       "      <td>active</td>\n",
       "    </tr>\n",
       "    <tr>\n",
       "      <th>20250327_132924_w_plugin.json</th>\n",
       "      <td>485</td>\n",
       "      <td>746</td>\n",
       "      <td>526</td>\n",
       "      <td>active</td>\n",
       "    </tr>\n",
       "    <tr>\n",
       "      <th>20250327_132436_w_plugin.json</th>\n",
       "      <td>487</td>\n",
       "      <td>748</td>\n",
       "      <td>591</td>\n",
       "      <td>active</td>\n",
       "    </tr>\n",
       "    <tr>\n",
       "      <th>20250327_132644_w_plugin.json</th>\n",
       "      <td>486</td>\n",
       "      <td>747</td>\n",
       "      <td>520</td>\n",
       "      <td>active</td>\n",
       "    </tr>\n",
       "    <tr>\n",
       "      <th>20250327_132419_w_plugin.json</th>\n",
       "      <td>648</td>\n",
       "      <td>1012</td>\n",
       "      <td>768</td>\n",
       "      <td>active</td>\n",
       "    </tr>\n",
       "    <tr>\n",
       "      <th>20250327_132908_w_plugin.json</th>\n",
       "      <td>486</td>\n",
       "      <td>749</td>\n",
       "      <td>523</td>\n",
       "      <td>active</td>\n",
       "    </tr>\n",
       "    <tr>\n",
       "      <th>20250327_132748_w_plugin.json</th>\n",
       "      <td>489</td>\n",
       "      <td>711</td>\n",
       "      <td>515</td>\n",
       "      <td>active</td>\n",
       "    </tr>\n",
       "    <tr>\n",
       "      <th>20250327_132716_w_plugin.json</th>\n",
       "      <td>486</td>\n",
       "      <td>749</td>\n",
       "      <td>538</td>\n",
       "      <td>active</td>\n",
       "    </tr>\n",
       "    <tr>\n",
       "      <th>20250327_132540_w_plugin.json</th>\n",
       "      <td>488</td>\n",
       "      <td>751</td>\n",
       "      <td>527</td>\n",
       "      <td>active</td>\n",
       "    </tr>\n",
       "    <tr>\n",
       "      <th>20250327_132732_w_plugin.json</th>\n",
       "      <td>486</td>\n",
       "      <td>748</td>\n",
       "      <td>520</td>\n",
       "      <td>active</td>\n",
       "    </tr>\n",
       "    <tr>\n",
       "      <th>20250327_132836_w_plugin.json</th>\n",
       "      <td>487</td>\n",
       "      <td>710</td>\n",
       "      <td>528</td>\n",
       "      <td>active</td>\n",
       "    </tr>\n",
       "    <tr>\n",
       "      <th>20250327_132612_w_plugin.json</th>\n",
       "      <td>485</td>\n",
       "      <td>744</td>\n",
       "      <td>507</td>\n",
       "      <td>active</td>\n",
       "    </tr>\n",
       "    <tr>\n",
       "      <th>20250327_132524_w_plugin.json</th>\n",
       "      <td>488</td>\n",
       "      <td>752</td>\n",
       "      <td>532</td>\n",
       "      <td>active</td>\n",
       "    </tr>\n",
       "    <tr>\n",
       "      <th>20250327_132628_w_plugin.json</th>\n",
       "      <td>485</td>\n",
       "      <td>747</td>\n",
       "      <td>520</td>\n",
       "      <td>active</td>\n",
       "    </tr>\n",
       "    <tr>\n",
       "      <th>20250327_132852_w_plugin.json</th>\n",
       "      <td>487</td>\n",
       "      <td>748</td>\n",
       "      <td>527</td>\n",
       "      <td>active</td>\n",
       "    </tr>\n",
       "  </tbody>\n",
       "</table>\n",
       "</div>"
      ],
      "text/plain": [
       "                                firstContentfulPaint  largestContentfulPaint  \\\n",
       "20250327_133233_wo_plugin.json                   465                     505   \n",
       "20250327_133114_wo_plugin.json                   411                     502   \n",
       "20250327_133512_wo_plugin.json                   410                     501   \n",
       "20250327_133336_wo_plugin.json                   411                     502   \n",
       "20250327_133352_wo_plugin.json                   411                     502   \n",
       "20250327_133249_wo_plugin.json                   411                     501   \n",
       "20250327_133408_wo_plugin.json                   408                     498   \n",
       "20250327_133320_wo_plugin.json                   412                     502   \n",
       "20250327_133058_wo_plugin.json                   410                     500   \n",
       "20250327_133217_wo_plugin.json                   414                     506   \n",
       "20250327_133456_wo_plugin.json                   410                     500   \n",
       "20250327_133042_wo_plugin.json                   411                     502   \n",
       "20250327_133026_wo_plugin.json                   577                     629   \n",
       "20250327_133145_wo_plugin.json                   410                     500   \n",
       "20250327_133305_wo_plugin.json                   409                     499   \n",
       "20250327_133129_wo_plugin.json                   411                     501   \n",
       "20250327_133528_wo_plugin.json                   408                     497   \n",
       "20250327_133424_wo_plugin.json                   409                     499   \n",
       "20250327_133440_wo_plugin.json                   409                     499   \n",
       "20250327_133201_wo_plugin.json                   410                     500   \n",
       "20250327_132556_w_plugin.json                    487                     749   \n",
       "20250327_132820_w_plugin.json                    488                     750   \n",
       "20250327_132508_w_plugin.json                    487                     748   \n",
       "20250327_132452_w_plugin.json                    487                     750   \n",
       "20250327_132804_w_plugin.json                    487                     749   \n",
       "20250327_132700_w_plugin.json                    485                     745   \n",
       "20250327_132924_w_plugin.json                    485                     746   \n",
       "20250327_132436_w_plugin.json                    487                     748   \n",
       "20250327_132644_w_plugin.json                    486                     747   \n",
       "20250327_132419_w_plugin.json                    648                    1012   \n",
       "20250327_132908_w_plugin.json                    486                     749   \n",
       "20250327_132748_w_plugin.json                    489                     711   \n",
       "20250327_132716_w_plugin.json                    486                     749   \n",
       "20250327_132540_w_plugin.json                    488                     751   \n",
       "20250327_132732_w_plugin.json                    486                     748   \n",
       "20250327_132836_w_plugin.json                    487                     710   \n",
       "20250327_132612_w_plugin.json                    485                     744   \n",
       "20250327_132524_w_plugin.json                    488                     752   \n",
       "20250327_132628_w_plugin.json                    485                     747   \n",
       "20250327_132852_w_plugin.json                    487                     748   \n",
       "\n",
       "                                speedIndex    plugin  \n",
       "20250327_133233_wo_plugin.json         489  inactive  \n",
       "20250327_133114_wo_plugin.json         424  inactive  \n",
       "20250327_133512_wo_plugin.json         425  inactive  \n",
       "20250327_133336_wo_plugin.json         419  inactive  \n",
       "20250327_133352_wo_plugin.json         423  inactive  \n",
       "20250327_133249_wo_plugin.json         412  inactive  \n",
       "20250327_133408_wo_plugin.json         424  inactive  \n",
       "20250327_133320_wo_plugin.json         434  inactive  \n",
       "20250327_133058_wo_plugin.json         421  inactive  \n",
       "20250327_133217_wo_plugin.json         419  inactive  \n",
       "20250327_133456_wo_plugin.json         433  inactive  \n",
       "20250327_133042_wo_plugin.json         420  inactive  \n",
       "20250327_133026_wo_plugin.json         577  inactive  \n",
       "20250327_133145_wo_plugin.json         426  inactive  \n",
       "20250327_133305_wo_plugin.json         422  inactive  \n",
       "20250327_133129_wo_plugin.json         431  inactive  \n",
       "20250327_133528_wo_plugin.json         423  inactive  \n",
       "20250327_133424_wo_plugin.json         423  inactive  \n",
       "20250327_133440_wo_plugin.json         418  inactive  \n",
       "20250327_133201_wo_plugin.json         410  inactive  \n",
       "20250327_132556_w_plugin.json          517    active  \n",
       "20250327_132820_w_plugin.json          530    active  \n",
       "20250327_132508_w_plugin.json          512    active  \n",
       "20250327_132452_w_plugin.json          504    active  \n",
       "20250327_132804_w_plugin.json          517    active  \n",
       "20250327_132700_w_plugin.json          517    active  \n",
       "20250327_132924_w_plugin.json          526    active  \n",
       "20250327_132436_w_plugin.json          591    active  \n",
       "20250327_132644_w_plugin.json          520    active  \n",
       "20250327_132419_w_plugin.json          768    active  \n",
       "20250327_132908_w_plugin.json          523    active  \n",
       "20250327_132748_w_plugin.json          515    active  \n",
       "20250327_132716_w_plugin.json          538    active  \n",
       "20250327_132540_w_plugin.json          527    active  \n",
       "20250327_132732_w_plugin.json          520    active  \n",
       "20250327_132836_w_plugin.json          528    active  \n",
       "20250327_132612_w_plugin.json          507    active  \n",
       "20250327_132524_w_plugin.json          532    active  \n",
       "20250327_132628_w_plugin.json          520    active  \n",
       "20250327_132852_w_plugin.json          527    active  "
      ]
     },
     "execution_count": 10,
     "metadata": {},
     "output_type": "execute_result"
    }
   ],
   "source": [
    "df_wo_metrics = df_wo[['firstContentfulPaint', 'largestContentfulPaint', 'speedIndex']].copy()\n",
    "df_w_metrics = df_w[['firstContentfulPaint', 'largestContentfulPaint', 'speedIndex']].copy()\n",
    "\n",
    "df_wo_metrics['plugin'] = 'inactive'\n",
    "df_w_metrics['plugin'] = 'active'\n",
    "\n",
    "combined_df = pd.concat([df_wo_metrics, df_w_metrics])\n",
    "\n",
    "combined_df"
   ]
  },
  {
   "cell_type": "code",
   "execution_count": 11,
   "id": "376078a6",
   "metadata": {},
   "outputs": [],
   "source": [
    "sns.set_theme(style='whitegrid')"
   ]
  },
  {
   "cell_type": "code",
   "execution_count": 12,
   "id": "e1af6a9d",
   "metadata": {},
   "outputs": [
    {
     "data": {
      "text/html": [
       "<div>\n",
       "<style scoped>\n",
       "    .dataframe tbody tr th:only-of-type {\n",
       "        vertical-align: middle;\n",
       "    }\n",
       "\n",
       "    .dataframe tbody tr th {\n",
       "        vertical-align: top;\n",
       "    }\n",
       "\n",
       "    .dataframe thead th {\n",
       "        text-align: right;\n",
       "    }\n",
       "</style>\n",
       "<table border=\"1\" class=\"dataframe\">\n",
       "  <thead>\n",
       "    <tr style=\"text-align: right;\">\n",
       "      <th></th>\n",
       "      <th>plugin</th>\n",
       "      <th>metric</th>\n",
       "      <th>ms</th>\n",
       "    </tr>\n",
       "  </thead>\n",
       "  <tbody>\n",
       "    <tr>\n",
       "      <th>0</th>\n",
       "      <td>inactive</td>\n",
       "      <td>firstContentfulPaint</td>\n",
       "      <td>465</td>\n",
       "    </tr>\n",
       "    <tr>\n",
       "      <th>1</th>\n",
       "      <td>inactive</td>\n",
       "      <td>firstContentfulPaint</td>\n",
       "      <td>411</td>\n",
       "    </tr>\n",
       "    <tr>\n",
       "      <th>2</th>\n",
       "      <td>inactive</td>\n",
       "      <td>firstContentfulPaint</td>\n",
       "      <td>410</td>\n",
       "    </tr>\n",
       "    <tr>\n",
       "      <th>3</th>\n",
       "      <td>inactive</td>\n",
       "      <td>firstContentfulPaint</td>\n",
       "      <td>411</td>\n",
       "    </tr>\n",
       "    <tr>\n",
       "      <th>4</th>\n",
       "      <td>inactive</td>\n",
       "      <td>firstContentfulPaint</td>\n",
       "      <td>411</td>\n",
       "    </tr>\n",
       "    <tr>\n",
       "      <th>...</th>\n",
       "      <td>...</td>\n",
       "      <td>...</td>\n",
       "      <td>...</td>\n",
       "    </tr>\n",
       "    <tr>\n",
       "      <th>115</th>\n",
       "      <td>active</td>\n",
       "      <td>speedIndex</td>\n",
       "      <td>528</td>\n",
       "    </tr>\n",
       "    <tr>\n",
       "      <th>116</th>\n",
       "      <td>active</td>\n",
       "      <td>speedIndex</td>\n",
       "      <td>507</td>\n",
       "    </tr>\n",
       "    <tr>\n",
       "      <th>117</th>\n",
       "      <td>active</td>\n",
       "      <td>speedIndex</td>\n",
       "      <td>532</td>\n",
       "    </tr>\n",
       "    <tr>\n",
       "      <th>118</th>\n",
       "      <td>active</td>\n",
       "      <td>speedIndex</td>\n",
       "      <td>520</td>\n",
       "    </tr>\n",
       "    <tr>\n",
       "      <th>119</th>\n",
       "      <td>active</td>\n",
       "      <td>speedIndex</td>\n",
       "      <td>527</td>\n",
       "    </tr>\n",
       "  </tbody>\n",
       "</table>\n",
       "<p>120 rows × 3 columns</p>\n",
       "</div>"
      ],
      "text/plain": [
       "       plugin                metric   ms\n",
       "0    inactive  firstContentfulPaint  465\n",
       "1    inactive  firstContentfulPaint  411\n",
       "2    inactive  firstContentfulPaint  410\n",
       "3    inactive  firstContentfulPaint  411\n",
       "4    inactive  firstContentfulPaint  411\n",
       "..        ...                   ...  ...\n",
       "115    active            speedIndex  528\n",
       "116    active            speedIndex  507\n",
       "117    active            speedIndex  532\n",
       "118    active            speedIndex  520\n",
       "119    active            speedIndex  527\n",
       "\n",
       "[120 rows x 3 columns]"
      ]
     },
     "execution_count": 12,
     "metadata": {},
     "output_type": "execute_result"
    }
   ],
   "source": [
    "combined_df_long = pd.melt(combined_df, 'plugin', var_name='metric', value_name='ms')\n",
    "combined_df_long"
   ]
  },
  {
   "cell_type": "code",
   "execution_count": null,
   "id": "9fa211d6",
   "metadata": {},
   "outputs": [],
   "source": []
  },
  {
   "cell_type": "code",
   "execution_count": 13,
   "id": "864b7ca8",
   "metadata": {},
   "outputs": [
    {
     "data": {
      "text/plain": [
       "<seaborn.axisgrid.FacetGrid at 0x13aa6da60>"
      ]
     },
     "execution_count": 13,
     "metadata": {},
     "output_type": "execute_result"
    },
    {
     "data": {
      "image/png": "[encoded data removed]",
      "text/plain": [
       "<Figure size 1506.62x700 with 1 Axes>"
      ]
     },
     "metadata": {},
     "output_type": "display_data"
    }
   ],
   "source": [
    "sns.catplot(data=combined_df_long, x='metric', y='ms', hue='plugin', kind='box', height=7, aspect=2)"
   ]
  },
  {
   "cell_type": "code",
   "execution_count": 14,
   "id": "275ea997",
   "metadata": {},
   "outputs": [
    {
     "data": {
      "text/plain": [
       "<Axes: ylabel='firstContentfulPaint'>"
      ]
     },
     "execution_count": 14,
     "metadata": {},
     "output_type": "execute_result"
    },
    {
     "data": {
      "image/png": "[encoded data removed]",
      "text/plain": [
       "<Figure size 640x480 with 1 Axes>"
      ]
     },
     "metadata": {},
     "output_type": "display_data"
    }
   ],
   "source": [
    "sns.boxplot(data=combined_df, y='firstContentfulPaint', hue='plugin', showfliers=False)"
   ]
  },
  {
   "cell_type": "code",
   "execution_count": 15,
   "id": "2f4e50a0",
   "metadata": {},
   "outputs": [
    {
     "data": {
      "text/plain": [
       "<Axes: ylabel='largestContentfulPaint'>"
      ]
     },
     "execution_count": 15,
     "metadata": {},
     "output_type": "execute_result"
    },
    {
     "data": {
      "image/png": "[encoded data removed]",
      "text/plain": [
       "<Figure size 640x480 with 1 Axes>"
      ]
     },
     "metadata": {},
     "output_type": "display_data"
    }
   ],
   "source": [
    "sns.boxplot(data=combined_df, y='largestContentfulPaint', hue='plugin', showfliers=False)\n"
   ]
  },
  {
   "cell_type": "code",
   "execution_count": 16,
   "id": "d39e2978",
   "metadata": {},
   "outputs": [
    {
     "data": {
      "text/plain": [
       "<Axes: ylabel='speedIndex'>"
      ]
     },
     "execution_count": 16,
     "metadata": {},
     "output_type": "execute_result"
    },
    {
     "data": {
      "image/png": "[encoded data removed]",
      "text/plain": [
       "<Figure size 640x480 with 1 Axes>"
      ]
     },
     "metadata": {},
     "output_type": "display_data"
    }
   ],
   "source": [
    "sns.boxplot(data=combined_df, y='speedIndex', hue='plugin', showfliers=False)"
   ]
  }
 ],
 "metadata": {
  "kernelspec": {
   "display_name": "base",
   "language": "python",
   "name": "python3"
  },
  "language_info": {
   "codemirror_mode": {
    "name": "ipython",
    "version": 3
   },
   "file_extension": ".py",
   "mimetype": "text/x-python",
   "name": "python",
   "nbconvert_exporter": "python",
   "pygments_lexer": "ipython3",
   "version": "3.12.9"
  }
 },
 "nbformat": 4,
 "nbformat_minor": 5
}
